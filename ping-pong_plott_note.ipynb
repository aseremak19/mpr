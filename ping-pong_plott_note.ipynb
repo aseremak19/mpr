{
 "cells": [
  {
   "cell_type": "code",
   "execution_count": null,
   "metadata": {},
   "outputs": [],
   "source": [
    "import pandas as pd\n",
    "import numpy as np\n",
    "import matplotlib.pyplot as plt\n",
    "from sklearn import datasets, linear_model\n",
    "from sklearn.metrics import mean_squared_error, r2_score\n",
    "\n",
    "# read data from CSV file into a dataframe\n",
    "df1 = pd.read_csv('output_Ssend.csv')\n",
    "df2 = pd.read_csv('output_Bsend.csv')\n"
   ]
  },
  {
   "cell_type": "code",
   "execution_count": null,
   "metadata": {},
   "outputs": [],
   "source": [
    "\n",
    "# plot data\n",
    "plt.plot(df1['Array Size'], df1['Average Time'])\n",
    "\n",
    "# set axis labels and title\n",
    "plt.xlabel('Array Size')\n",
    "plt.ylabel('Average Time')\n",
    "plt.title('Average Time')\n",
    "\n",
    "# display the plot\n",
    "plt.show()\n",
    "\n",
    "\n",
    "\n",
    "# plot data\n",
    "plt.plot(df2['Array Size'], df2['Average Time'])\n",
    "\n",
    "# set axis labels and title\n",
    "plt.xlabel('Array Size')\n",
    "plt.ylabel('Average Time')\n",
    "plt.title('Line Plot')\n",
    "\n",
    "# display the plot\n",
    "plt.show()\n"
   ]
  },
  {
   "cell_type": "code",
   "execution_count": null,
   "metadata": {},
   "outputs": [],
   "source": [
    "# Create linear regression object\n",
    "regr = linear_model.LinearRegression()\n",
    "training_X = np.array(df1['Array Size'])\n",
    "training_X = training_X.reshape(-1, 1)\n",
    "training_y = np.array(df1['Average Time'])\n",
    "training_y = training_y.reshape(-1, 1)\n",
    "# Train the model using the training sets\n",
    "regr.fit(training_X, training_y)\n",
    "\n",
    "# Make predictions using the testing set\n",
    "training_y_pred = regr.predict(training_X)\n",
    "\n",
    "# The coefficients\n",
    "print('Coefficients: \\n', regr.coef_)\n",
    "print('Intercept: \\n', regr.intercept_)\n",
    "# The mean squared error\n",
    "print(\"Mean squared error: %.2f\"\n",
    "      % mean_squared_error(training_y, training_y_pred))\n",
    "# Explained variance score: 1 is perfect prediction\n",
    "print('Variance score: %.2f' % r2_score(training_y, training_y_pred))\n",
    "\n",
    "plt.scatter(training_X, training_y)\n",
    "plt.plot(training_X, training_y_pred, color='blue', linewidth=3)\n",
    "#plt.ylim(top=2.5 *(10**-6))\n",
    "\n",
    "plt.show()"
   ]
  },
  {
   "cell_type": "code",
   "execution_count": null,
   "metadata": {},
   "outputs": [],
   "source": [
    "# Create linear regression object\n",
    "regr = linear_model.LinearRegression()\n",
    "training_X = np.array(df2['Array Size'])\n",
    "training_X = training_X.reshape(-1, 1)\n",
    "training_y = np.array(df2['Average Time'])\n",
    "training_y = training_y.reshape(-1, 1)\n",
    "# Train the model using the training sets\n",
    "regr.fit(training_X, training_y)\n",
    "\n",
    "# Make predictions using the testing set\n",
    "training_y_pred = regr.predict(training_X)\n",
    "\n",
    "# The coefficients\n",
    "print('Coefficients: \\n', regr.coef_)\n",
    "print('Intercept: \\n', regr.intercept_)\n",
    "# The mean squared error\n",
    "print(\"Mean squared error: %.2f\"\n",
    "      % mean_squared_error(training_y, training_y_pred))\n",
    "# Explained variance score: 1 is perfect prediction\n",
    "print('Variance score: %.2f' % r2_score(training_y, training_y_pred))\n",
    "\n",
    "plt.scatter(training_X, training_y)\n",
    "plt.plot(training_X, training_y_pred, color='blue', linewidth=3)\n",
    "plt.ylim(top=3.5 *(10**-6))\n",
    "\n",
    "plt.show()"
   ]
  },
  {
   "cell_type": "code",
   "execution_count": null,
   "metadata": {},
   "outputs": [],
   "source": [
    "array_size_bits_ss = np.array(df1['Array Size']) * 32\n",
    "array_delay_ss = np.array(df1['Average Time'])\n",
    "\n",
    "array_bits_per_second_ss = np.divide(array_size_bits_ss, array_delay_ss) / 1000\n",
    "\n",
    "# plot data\n",
    "plt.plot(array_size_bits_ss, array_bits_per_second_ss)\n",
    "\n",
    "# set axis labels and title\n",
    "plt.xlabel('Bits')\n",
    "plt.ylabel('bit/s')\n",
    "plt.title('Network bandwith: synchronous communication (MPI_Ssend)')"
   ]
  },
  {
   "cell_type": "code",
   "execution_count": null,
   "metadata": {},
   "outputs": [],
   "source": [
    "array_size_bits_bf = np.array(df2['Array Size']) * 32\n",
    "array_delay_bf = np.array(df2['Average Time'])\n",
    "\n",
    "array_bits_per_seconds_bf = np.divide(array_size_bits_bf, array_delay_bf) / 1000\n",
    "\n",
    "# plot data\n",
    "plt.plot(array_size_bits_bf, array_bits_per_seconds_bf)\n",
    "\n",
    "# set axis labels and title\n",
    "plt.xlabel('Bits')\n",
    "plt.ylabel('bit/s')\n",
    "plt.title('Network bandwith: buffer communication (MPI_Bsend)')"
   ]
  },
  {
   "cell_type": "code",
   "execution_count": null,
   "metadata": {},
   "outputs": [],
   "source": [
    "from scipy.signal import savgol_filter\n",
    "\n",
    "array_bits_per_second_ss_filt = savgol_filter(array_bits_per_second_ss, 101, 3)\n",
    "\n",
    "# plot data\n",
    "plt.plot(array_size_bits_ss, array_bits_per_second_ss_filt)\n",
    "\n",
    "# set axis labels and title\n",
    "plt.xlabel('Bits')\n",
    "plt.ylabel('Mbit/s')\n",
    "plt.title('Network bandwith: synchronous communication (MPI_Ssend)')"
   ]
  },
  {
   "cell_type": "code",
   "execution_count": null,
   "metadata": {},
   "outputs": [],
   "source": [
    "\n",
    "array_bits_per_second_bf_filt = savgol_filter(array_bits_per_seconds_bf, 201, 3)\n",
    "\n",
    "\n",
    "# plot data\n",
    "plt.plot(array_size_bits_bf, array_bits_per_second_bf_filt)\n",
    "\n",
    "# set axis labels and title\n",
    "plt.xlabel('Bits')\n",
    "plt.ylabel('Mbit/s')\n",
    "plt.title('Network bandwith: buffer communication (MPI_Bsend)')"
   ]
  },
  {
   "cell_type": "code",
   "execution_count": null,
   "metadata": {},
   "outputs": [],
   "source": [
    "plt.plot(array_size_bits_ss, array_bits_per_second_ss_filt, label = \"MPI_Ssend\")\n",
    "plt.plot(array_size_bits_bf, array_bits_per_second_bf_filt, label = \"MPI_Bsend\")\n",
    "\n",
    "plt.xlabel('Bits')\n",
    "plt.ylabel('Mbit/s')\n",
    "plt.title('Network bandwidth: buffer and synchornous communication comparison')\n",
    "\n",
    "plt.legend()\n",
    "plt.show()"
   ]
  },
  {
   "attachments": {},
   "cell_type": "markdown",
   "metadata": {},
   "source": [
    "2 nodes:\n",
    "Rank: 1; Hostanme: dc1a-lab-vnode-02.ipa.ki.agh.edu.pl\n",
    "Rank: 0; Hostanme: dc1a-lab-vnode-01.ipa.ki.agh.edu.pl"
   ]
  },
  {
   "cell_type": "code",
   "execution_count": null,
   "metadata": {},
   "outputs": [],
   "source": [
    "# read data from CSV file into a dataframe\n",
    "df2 = pd.read_csv('output_Bsend_2nodes.csv')\n",
    "df1 = pd.read_csv('output_Ssend_2nodes.csv')\n",
    "\n",
    "# plot data\n",
    "plt.plot(df1['Array Size'], df1['Average Time'])\n",
    "\n",
    "# set axis labels and title\n",
    "plt.xlabel('Array Size')\n",
    "plt.ylabel('Average Time')\n",
    "plt.title('Average Time')\n",
    "\n",
    "# display the plot\n",
    "plt.show()\n",
    "\n",
    "# plot data\n",
    "plt.plot(df2['Array Size'], df2['Average Time'])\n",
    "\n",
    "# set axis labels and title\n",
    "plt.xlabel('Array Size')\n",
    "plt.ylabel('Average Time')\n",
    "plt.title('Line Plot')\n",
    "\n",
    "# display the plot\n",
    "plt.show()"
   ]
  },
  {
   "cell_type": "code",
   "execution_count": null,
   "metadata": {},
   "outputs": [],
   "source": [
    "array_size_bits_ss = np.array(df1['Array Size']) * 32\n",
    "array_delay_ss = np.array(df1['Average Time'])\n",
    "\n",
    "array_bits_per_second_ss = np.divide(array_size_bits_ss, array_delay_ss) / 1000\n",
    "\n",
    "# plot data\n",
    "plt.plot(array_size_bits_ss, array_bits_per_second_ss)\n",
    "\n",
    "# set axis labels and title\n",
    "plt.xlabel('Bits')\n",
    "plt.ylabel('Mbit/s')\n",
    "plt.title('Network bandwith: synchronous communication (MPI_Ssend)')"
   ]
  },
  {
   "cell_type": "code",
   "execution_count": null,
   "metadata": {},
   "outputs": [],
   "source": [
    "array_size_bits_bf = np.array(df2['Array Size']) * 32\n",
    "array_delay_bf = np.array(df2['Average Time'])\n",
    "\n",
    "array_bits_per_seconds_bf = np.divide(array_size_bits_bf, array_delay_bf) / 1000\n",
    "\n",
    "# plot data\n",
    "plt.plot(array_size_bits_bf, array_bits_per_seconds_bf)\n",
    "\n",
    "# set axis labels and title\n",
    "plt.xlabel('Bits')\n",
    "plt.ylabel('bit/s')\n",
    "plt.title('Network bandwith: buffer communication (MPI_Bsend)')"
   ]
  },
  {
   "cell_type": "code",
   "execution_count": null,
   "metadata": {},
   "outputs": [],
   "source": [
    "array_bits_per_second_bf_filt = savgol_filter(array_bits_per_seconds_bf, 201, 3)\n",
    "\n",
    "\n",
    "# plot data\n",
    "plt.plot(array_size_bits_bf, array_bits_per_second_bf_filt)\n",
    "\n",
    "# set axis labels and title\n",
    "plt.xlabel('Bits')\n",
    "plt.ylabel('Mbit/s')\n",
    "plt.title('Network bandwith: buffer communication (MPI_Bsend)')"
   ]
  },
  {
   "cell_type": "code",
   "execution_count": null,
   "metadata": {},
   "outputs": [],
   "source": [
    "\n",
    "array_bits_per_second_bf_filt = savgol_filter(array_bits_per_seconds_bf, 201, 3)\n",
    "\n",
    "\n",
    "# plot data\n",
    "plt.plot(array_size_bits_bf, array_bits_per_second_bf_filt)\n",
    "\n",
    "# set axis labels and title\n",
    "plt.xlabel('Bits')\n",
    "plt.ylabel('Mbit/s')\n",
    "plt.title('Network bandwith: buffer communication (MPI_Bsend)')"
   ]
  },
  {
   "cell_type": "code",
   "execution_count": null,
   "metadata": {},
   "outputs": [],
   "source": [
    "plt.plot(array_size_bits_ss, array_bits_per_second_ss_filt, label = \"MPI_Ssend\")\n",
    "plt.plot(array_size_bits_bf, array_bits_per_second_bf_filt, label = \"MPI_Bsend\")\n",
    "\n",
    "plt.xlabel('Bits')\n",
    "plt.ylabel('Mbit/s')\n",
    "plt.title('Network bandwidth: buffer and synchornous communication comparison')\n",
    "\n",
    "plt.legend()\n",
    "plt.show()"
   ]
  }
 ],
 "metadata": {
  "kernelspec": {
   "display_name": "Python 3",
   "language": "python",
   "name": "python3"
  },
  "language_info": {
   "codemirror_mode": {
    "name": "ipython",
    "version": 3
   },
   "file_extension": ".py",
   "mimetype": "text/x-python",
   "name": "python",
   "nbconvert_exporter": "python",
   "pygments_lexer": "ipython3",
   "version": "3.9.13"
  },
  "orig_nbformat": 4
 },
 "nbformat": 4,
 "nbformat_minor": 2
}
